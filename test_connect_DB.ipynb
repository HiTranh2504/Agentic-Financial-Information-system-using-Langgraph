{
 "cells": [
  {
   "cell_type": "code",
   "execution_count": 3,
   "id": "7c725f9c",
   "metadata": {},
   "outputs": [
    {
     "name": "stdout",
     "output_type": "stream",
     "text": [
      "✅ Đã kết nối đến PostgreSQL Supabase.\n",
      "\n",
      "📋 Dữ liệu từ bảng djia_companies:\n",
      "('AAPL', 'Apple Inc.', 'Technology')\n",
      "('AMGN', 'Amgen Inc.', 'Healthcare')\n",
      "('AXP', 'American Express Company', 'Financial Services')\n",
      "('BA', 'Boeing Company (The)', 'Industrials')\n",
      "('CAT', 'Caterpillar, Inc.', 'Industrials')\n",
      "\n",
      "📈 Dữ liệu từ bảng djia_prices:\n",
      "(datetime.datetime(2023, 4, 26, 4, 0, tzinfo=datetime.timezone.utc), 162.125, 'AAPL')\n",
      "(datetime.datetime(2023, 4, 27, 4, 0, tzinfo=datetime.timezone.utc), 166.728576660156, 'AAPL')\n",
      "(datetime.datetime(2023, 4, 28, 4, 0, tzinfo=datetime.timezone.utc), 167.985885620117, 'AAPL')\n",
      "(datetime.datetime(2023, 5, 1, 4, 0, tzinfo=datetime.timezone.utc), 167.89680480957, 'AAPL')\n",
      "(datetime.datetime(2023, 5, 2, 4, 0, tzinfo=datetime.timezone.utc), 166.857269287109, 'AAPL')\n",
      "\n",
      "🧠 Phiên bản PostgreSQL: PostgreSQL 15.8 on aarch64-unknown-linux-gnu, compiled by gcc (GCC) 13.2.0, 64-bit\n"
     ]
    }
   ],
   "source": [
    "import psycopg2\n",
    "\n",
    "# Cấu hình kết nối cụ thể\n",
    "DB_CONFIG = {\n",
    "    \"dbname\": \"postgres\",\n",
    "    \"user\": \"postgres.qgoljxbwnlmvrutlylwp\",\n",
    "    \"password\": \"WrWOSApFIXB2kI7E\",\n",
    "    \"host\": \"aws-0-ap-southeast-1.pooler.supabase.com\",\n",
    "    \"port\": 6543\n",
    "}\n",
    "\n",
    "def connect():\n",
    "    try:\n",
    "        conn = psycopg2.connect(**DB_CONFIG)\n",
    "        conn.set_client_encoding('UTF8')  # fix warning\n",
    "        print(\"✅ Đã kết nối đến PostgreSQL Supabase.\")\n",
    "\n",
    "        cur = conn.cursor()\n",
    "\n",
    "        # Truy vấn từ bảng djia_companies\n",
    "        print(\"\\n📋 Dữ liệu từ bảng djia_companies:\")\n",
    "        cur.execute(\"SELECT symbol, name, sector FROM djia_companies LIMIT 5;\")\n",
    "        for row in cur.fetchall():\n",
    "            print(row)\n",
    "\n",
    "        # Truy vấn từ bảng djia_prices (chú ý dùng tên cột hoa)\n",
    "        print(\"\\n📈 Dữ liệu từ bảng djia_prices:\")\n",
    "        cur.execute('SELECT \"Date\", \"Close\", \"Ticker\" FROM djia_prices LIMIT 5;')\n",
    "        for row in cur.fetchall():\n",
    "            print(row)\n",
    "\n",
    "        cur.execute(\"SELECT version();\")\n",
    "        print(\"\\n🧠 Phiên bản PostgreSQL:\", cur.fetchone()[0])\n",
    "\n",
    "        cur.close()\n",
    "        conn.close()\n",
    "    except Exception as e:\n",
    "        print(\"❌ Lỗi khi kết nối hoặc truy vấn:\", e)\n",
    "\n",
    "if __name__ == \"__main__\":\n",
    "    connect()\n"
   ]
  },
  {
   "cell_type": "code",
   "execution_count": null,
   "id": "cb619e63",
   "metadata": {},
   "outputs": [],
   "source": []
  }
 ],
 "metadata": {
  "kernelspec": {
   "display_name": "venv",
   "language": "python",
   "name": "python3"
  },
  "language_info": {
   "codemirror_mode": {
    "name": "ipython",
    "version": 3
   },
   "file_extension": ".py",
   "mimetype": "text/x-python",
   "name": "python",
   "nbconvert_exporter": "python",
   "pygments_lexer": "ipython3",
   "version": "3.10.0"
  }
 },
 "nbformat": 4,
 "nbformat_minor": 5
}
