{
 "cells": [
  {
   "cell_type": "markdown",
   "metadata": {},
   "source": [
    "# Start LangGraph\n"
   ]
  },
  {
   "cell_type": "code",
   "execution_count": 109,
   "metadata": {},
   "outputs": [],
   "source": [
    "import os\n",
    "import re\n",
    "import json\n",
    "import yaml\n",
    "import pandas as pd\n",
    "import psycopg2\n",
    "from openai import OpenAI\n",
    "from dotenv import load_dotenv"
   ]
  },
  {
   "cell_type": "markdown",
   "metadata": {},
   "source": [
    "# Setup Environment Variables"
   ]
  },
  {
   "cell_type": "code",
   "execution_count": 110,
   "metadata": {},
   "outputs": [],
   "source": [
    "load_dotenv()\n",
    "\n",
    "import os\n",
    "\n",
    "OPENAI_KEY = os.getenv(\"OPENAI_API_KEY\")\n",
    "TAVILY_API_KEY = os.getenv(\"TAVILY_API_KEY\")\n",
    "\n",
    "os.environ[\"OPENAI_API_KEY\"] = OPENAI_KEY\n",
    "os.environ[\"TAVILY_API_KEY\"] = TAVILY_API_KEY\n"
   ]
  },
  {
   "cell_type": "markdown",
   "metadata": {},
   "source": []
  },
  {
   "cell_type": "markdown",
   "metadata": {},
   "source": [
    "# Build a Vector Database"
   ]
  },
  {
   "cell_type": "code",
   "execution_count": 111,
   "metadata": {},
   "outputs": [],
   "source": [
    "# from langchain_openai import OpenAIEmbeddings\n",
    "# openai_embed_model = OpenAIEmbeddings(model='text-embedding-3-small')"
   ]
  },
  {
   "cell_type": "code",
   "execution_count": 112,
   "metadata": {},
   "outputs": [],
   "source": [
    "# from langchain_openai import OpenAIEmbeddings\n",
    "# embed_model = OpenAIEmbeddings(model='text-embedding-3-small')\n"
   ]
  },
  {
   "cell_type": "code",
   "execution_count": 113,
   "metadata": {},
   "outputs": [],
   "source": [
    "import os\n",
    "import json\n",
    "import numpy as np\n",
    "import faiss\n",
    "import pickle\n",
    "from sentence_transformers import SentenceTransformer\n",
    "from typing import List, Dict, Any, Tuple"
   ]
  },
  {
   "cell_type": "code",
   "execution_count": 114,
   "metadata": {},
   "outputs": [],
   "source": [
    "chunks = None\n",
    "index = None\n",
    "embedding_model = None\n"
   ]
  },
  {
   "cell_type": "code",
   "execution_count": 115,
   "metadata": {},
   "outputs": [],
   "source": [
    "def get_vector_store_and_retriever(resource_dir: str = \"sec_embeddings\") -> Tuple[List[Dict[str, Any]], faiss.Index, SentenceTransformer]:\n",
    "    global chunks, index, embedding_model\n",
    "    \n",
    "    if chunks is not None and index is not None and embedding_model is not None:\n",
    "        print(\"✅ Vector store & retriever already initialized. Reusing...\")\n",
    "        return chunks, index, embedding_model\n",
    "\n",
    "    try:\n",
    "        print(f\"📁 Loading RAG vector store from: {resource_dir}\")\n",
    "        \n",
    "        with open(os.path.join(resource_dir, \"chunks.json\"), 'r', encoding='utf-8') as f:\n",
    "            chunks = json.load(f)\n",
    "        \n",
    "        with open(os.path.join(resource_dir, \"embeddings.pkl\"), 'rb') as f:\n",
    "            embeddings = pickle.load(f)\n",
    "        \n",
    "        index = faiss.read_index(os.path.join(resource_dir, \"faiss_index.bin\"))\n",
    "        embedding_model = SentenceTransformer(\"all-MiniLM-L6-v2\")\n",
    "        \n",
    "        print(f\"✅ Loaded {len(chunks)} chunks into memory.\")\n",
    "        print(\"✅ FAISS index and SentenceTransformer initialized.\")\n",
    "\n",
    "    except Exception as e:\n",
    "        print(f\"❌ Failed to load vector store and retriever: {e}\")\n",
    "        chunks = None\n",
    "        index = None\n",
    "        embedding_model = None\n",
    "\n",
    "    return chunks, index, embedding_model"
   ]
  },
  {
   "cell_type": "markdown",
   "metadata": {},
   "source": [
    "## Create a Query Retrieval Grader"
   ]
  },
  {
   "cell_type": "code",
   "execution_count": 116,
   "metadata": {},
   "outputs": [],
   "source": [
    "from langchain_core.prompts import ChatPromptTemplate\n",
    "from langchain_core.output_parsers import StrOutputParser\n",
    "from langchain_openai import ChatOpenAI\n",
    "from langchain_core.documents import Document\n",
    "\n",
    "# Tạo LLM với cấu hình Pydantic V2\n",
    "llm = ChatOpenAI(model=\"gpt-4.1-mini\", temperature=0)\n",
    "\n",
    "# Parser\n",
    "parser = StrOutputParser()\n",
    "\n",
    "# Prompt system\n",
    "SYS_PROMPT = \"\"\"\n",
    "You are an expert grader assessing whether a retrieved document contains relevant information to answer a user question.\n",
    "\n",
    "Please follow these rules:\n",
    "- Answer ONLY 'yes' or 'no'\n",
    "- If the document contains a numeric value, table, or sentence that directly answers the question (even partially), say 'yes'\n",
    "- Do NOT require exact match in wording; focus on meaning and key facts\n",
    "- Ignore formatting or markdown\n",
    "\n",
    "Be strict only when the document has no factual value for the question.\n",
    "\"\"\"\n",
    "\n",
    "\n",
    "# Tạo prompt template\n",
    "grade_prompt = ChatPromptTemplate.from_messages([\n",
    "    (\"system\", SYS_PROMPT),\n",
    "    (\"human\", \"Retrieved document:\\n{document}\\n\\nUser question:\\n{question}\")\n",
    "])\n",
    "\n",
    "# Tạo chain xử lý\n",
    "doc_grader = grade_prompt | llm | parser"
   ]
  },
  {
   "cell_type": "markdown",
   "metadata": {},
   "source": [
    "# Build a QA RAG Chain"
   ]
  },
  {
   "cell_type": "code",
   "execution_count": 117,
   "metadata": {},
   "outputs": [],
   "source": [
    "from langchain_core.prompts import ChatPromptTemplate\n",
    "from langchain_openai import ChatOpenAI\n",
    "from langchain_core.runnables import RunnablePassthrough, RunnableLambda\n",
    "from langchain_core.output_parsers import StrOutputParser\n",
    "from operator import itemgetter\n",
    "\n",
    "# Create RAG prompt for response generation\n",
    "prompt = \"\"\"You are an assistant for question-answering tasks.\n",
    "Use the following pieces of retrieved context to answer the question.\n",
    "If no context is present or if you don't know the answer, just say that you don't know the answer.\n",
    "Do not make up the answer unless it is there in the provided context.\n",
    "Give a detailed answer and to the point answer with regard to the question.\n",
    "Question:\n",
    "{question}\n",
    "Context:\n",
    "{context}\n",
    "Answer:\n",
    "\"\"\"\n",
    "prompt_template = ChatPromptTemplate.from_template(prompt)\n",
    "\n",
    "# Initialize connection with gpt-4.1-mini\n",
    "chatgpt = ChatOpenAI(model_name='gpt-4.1-mini', temperature=0)\n",
    "\n",
    "# Used for separating context docs with new lines\n",
    "def format_docs(docs):\n",
    "\treturn \"\\n\\n\".join(doc.page_content for doc in docs)\n",
    "\n",
    "# Create QA RAG chain\n",
    "qa_rag_chain = (\n",
    "\t{\n",
    "\t\t\"context\": (itemgetter('context')\n",
    "\t\t\t\t\t|\n",
    "\t\t\t\t\tRunnableLambda(format_docs)),\n",
    "\t\t\"question\": itemgetter('question')\n",
    "\t}\n",
    "\t|\n",
    "\tprompt_template\n",
    "\t|\n",
    "\tchatgpt\n",
    "\t|\n",
    "\tStrOutputParser()\n",
    ")"
   ]
  },
  {
   "cell_type": "markdown",
   "metadata": {},
   "source": [
    "# Create a Query Rephraser"
   ]
  },
  {
   "cell_type": "code",
   "execution_count": 118,
   "metadata": {},
   "outputs": [],
   "source": [
    "# LLM for question rewriting\n",
    "llm = ChatOpenAI(model=\"gpt-4.1-mini\", temperature=0)\n",
    "# Prompt template for rewriting\n",
    "SYS_PROMPT = \"\"\"Act as a question re-writer and perform the following task:\n",
    "\t\t\t\t - Convert the following input question to a better version that is optimized for web search.\n",
    "\t\t\t\t - When re-writing, look at the input question and try to reason about the underlying semantic intent / meaning.\n",
    "\t\t\t \"\"\"\n",
    "re_write_prompt = ChatPromptTemplate.from_messages(\n",
    "\t[\n",
    "\t\t(\"system\", SYS_PROMPT),\n",
    "\t\t(\"human\", \"\"\"Here is the initial question:\n",
    "\t\t\t\t\t {question}\n",
    "\t\t\t\t\t Formulate an improved question.\n",
    "\t\t\t\t  \"\"\")\n",
    "\t]\n",
    ")\n",
    "\n",
    "# Create rephraser chain\n",
    "question_rewriter = (re_write_prompt|llm|StrOutputParser())"
   ]
  },
  {
   "cell_type": "markdown",
   "metadata": {},
   "source": [
    "# Load Web Search Tool"
   ]
  },
  {
   "cell_type": "code",
   "execution_count": 119,
   "metadata": {},
   "outputs": [],
   "source": [
    "from langchain_community.tools.tavily_search import TavilySearchResults\n",
    "tv_search = TavilySearchResults(max_results=3, search_depth='advanced', max_tokens=10000)"
   ]
  },
  {
   "cell_type": "markdown",
   "metadata": {},
   "source": [
    "# SQL Query"
   ]
  },
  {
   "cell_type": "code",
   "execution_count": 120,
   "metadata": {},
   "outputs": [
    {
     "name": "stdout",
     "output_type": "stream",
     "text": [
      "DB Config: {'dbname': 'postgres', 'user': 'postgres.qgoljxbwnlmvrutlylwp', 'password': 'WrWOSApFIXB2kI7E', 'host': 'aws-0-ap-southeast-1.pooler.supabase.com', 'port': 6543, 'sslmode': 'require'}\n"
     ]
    }
   ],
   "source": [
    "load_dotenv()\n",
    "\n",
    "DB_CONFIG = {\n",
    "    \"dbname\": os.getenv(\"DBNAME\") or os.getenv(\"POSTGRES_DB\"),\n",
    "    \"user\": os.getenv(\"DBUSER\") or os.getenv(\"POSTGRES_USER\"),\n",
    "    \"password\": os.getenv(\"DBPASSWORD\") or os.getenv(\"POSTGRES_PASSWORD\"),\n",
    "    \"host\": os.getenv(\"DBHOST\") or \"localhost\",\n",
    "    \"port\": int(os.getenv(\"DBPORT\", 5432)),\n",
    "    \"sslmode\": os.getenv(\"SSL_MODE\", \"require\")\n",
    "}\n",
    "\n",
    "\n",
    "print(f\"DB Config: {DB_CONFIG}\")\n",
    "\n",
    "client = OpenAI(api_key=os.getenv(\"OPENAI_API_KEY\"))\n",
    "\n",
    "def connect_to_database():\n",
    "    try:\n",
    "        conn = psycopg2.connect(**DB_CONFIG)\n",
    "        print(\"Kết nối thành công đến PostgreSQL.\")\n",
    "        return conn\n",
    "    except Exception as e:\n",
    "        print(f\"Lỗi kết nối cơ sở dữ liệu: {e}\")\n",
    "        return None\n",
    "\n",
    "def get_schema_and_samples(conn):\n",
    "    try:\n",
    "        cursor = conn.cursor()\n",
    "        cursor.execute(\"SELECT table_name FROM information_schema.tables WHERE table_schema='public';\")\n",
    "        tables = cursor.fetchall()\n",
    "        schema_info = {}\n",
    "        for (table,) in tables:\n",
    "            cursor.execute(f\"SELECT column_name, data_type FROM information_schema.columns WHERE table_name = '{table}';\")\n",
    "            schema_info[table] = [{\"column_name\": col, \"data_type\": dtype} for col, dtype in cursor.fetchall()]\n",
    "            cursor.execute(f'SELECT * FROM \"{table}\" LIMIT 3;')\n",
    "            sample_rows = cursor.fetchall()\n",
    "            colnames = [desc[0] for desc in cursor.description]\n",
    "            schema_info[f\"{table}_samples\"] = [dict(zip(colnames, row)) for row in sample_rows]\n",
    "        cursor.close()\n",
    "        return schema_info\n",
    "    except Exception as e:\n",
    "        return {\"error\": str(e)}\n",
    "\n",
    "def generate_sql_query(user_question, schema_info=None):\n",
    "    prompt = f\"\"\"\n",
    "You are a PostgreSQL expert. You are working with a financial database containing two structured tables: \"djia_prices\" and \"djia_companies\".\n",
    "\n",
    "IMPORTANT:\n",
    "- PostgreSQL is case-sensitive **only when using quoted identifiers**.\n",
    "- You MUST wrap column names in double quotes (e.g. \"Ticker\", \"Close\", \"Date\").\n",
    "- When comparing date values, always use `\"Date\"::date = 'YYYY-MM-DD'` to match correctly against date input.\n",
    "- NEVER use `\"Date\" = 'YYYY-MM-DD'` because \"Date\" is stored as TIMESTAMPTZ.\n",
    "\n",
    "Table 1: \"djia_prices\"\n",
    "{{\n",
    "\"Date\" (TIMESTAMPTZ),\n",
    "\"Open\" (FLOAT),\n",
    "\"High\" (FLOAT),\n",
    "\"Low\" (FLOAT),\n",
    "\"Close\" (FLOAT),\n",
    "\"Volume\" (BIGINT),\n",
    "\"Dividends\" (FLOAT),\n",
    "\"Stock_Splits\" (FLOAT),\n",
    "\"Ticker\" (VARCHAR)\n",
    "}}\n",
    "\n",
    "Table 2: \"djia_companies\"\n",
    "{{\n",
    "\"symbol\" (VARCHAR),\n",
    "\"name\" (TEXT),\n",
    "\"sector\" (TEXT),\n",
    "\"industry\" (TEXT),\n",
    "\"country\" (TEXT),\n",
    "\"market_cap\" (FLOAT),\n",
    "\"pe_ratio\" (FLOAT),\n",
    "\"dividend_yield\" (FLOAT),\n",
    "\"description\" (TEXT)\n",
    "}}\n",
    "\n",
    "Use this schema to write the most accurate and optimized PostgreSQL query to answer the following question.\n",
    "\n",
    "IMPORTANT:\n",
    "- DO NOT use subqueries on \"djia_companies\" to find the ticker by name.\n",
    "- Instead, directly use the stock symbol (e.g. 'BA', 'AAPL', 'MSFT') when querying djia_prices.\n",
    "- Assume the correct ticker will be matched externally by the system.\n",
    "\n",
    "\n",
    "Do NOT format the query in markdown. Return ONLY the raw SQL.\n",
    "\n",
    "- If the user asks for market capitalization by sector as of a specific date (e.g. April 26, 2025), you should just use the static table \"djia_companies\".\n",
    "- DO NOT use a subquery with \"djia_prices\" based on date.\n",
    "\n",
    "\n",
    "User Question:\n",
    "{user_question}\n",
    "    \"\"\"\n",
    "\n",
    "    try:\n",
    "        response = client.chat.completions.create(\n",
    "            model=\"gpt-4\",\n",
    "            messages=[{\"role\": \"user\", \"content\": prompt}]\n",
    "        )\n",
    "        sql_query = response.choices[0].message.content\n",
    "        sql_query = re.sub(r'^```sql', '', sql_query).strip('` \\n')\n",
    "        return sql_query\n",
    "    except Exception as e:\n",
    "        print(f\"❌ Lỗi sinh SQL: {e}\")\n",
    "        return None\n",
    "\n",
    "\n",
    "\n",
    "def execute_sql_query(conn, query):\n",
    "    try:\n",
    "        df = pd.read_sql(query, conn)\n",
    "        return df\n",
    "    except Exception as e:\n",
    "        print(f\"❌ Lỗi thực thi SQL: {e}\")\n",
    "        return None"
   ]
  },
  {
   "cell_type": "markdown",
   "metadata": {},
   "source": [
    "# Build Agentic RAG components"
   ]
  },
  {
   "cell_type": "markdown",
   "metadata": {},
   "source": [
    "#### Graph State"
   ]
  },
  {
   "cell_type": "code",
   "execution_count": 121,
   "metadata": {},
   "outputs": [],
   "source": [
    "from typing import List\n",
    "from typing_extensions import TypedDict\n",
    "class GraphState(TypedDict):\n",
    "    question: str\n",
    "    generation: str\n",
    "    web_search_needed: str\n",
    "    documents: List[str]\n",
    "documents: List[str]"
   ]
  },
  {
   "cell_type": "markdown",
   "metadata": {},
   "source": [
    "#### Retrieve function for retrieval from Vector DB"
   ]
  },
  {
   "cell_type": "code",
   "execution_count": 122,
   "metadata": {},
   "outputs": [],
   "source": [
    "def retrieve(state):\n",
    "    print(\"---RETRIEVAL FROM VECTOR DB---\")\n",
    "    question = state[\"question\"]\n",
    "    documents = []\n",
    "\n",
    "    chunks, index, model = get_vector_store_and_retriever(resource_dir=\"sec_embeddings\")\n",
    "\n",
    "    if index and chunks and model:\n",
    "        try:\n",
    "            # Encode query\n",
    "            query_embedding = model.encode([question])[0].reshape(1, -1).astype(np.float32)\n",
    "\n",
    "            # Search in the index\n",
    "            distances, indices = index.search(query_embedding, 3)\n",
    "            print(f\"📌 Retrieved top {len(indices[0])} docs from FAISS\")\n",
    "\n",
    "            for i, idx in enumerate(indices[0]):\n",
    "                if idx < len(chunks):\n",
    "                    chunk = chunks[idx]\n",
    "                    content = chunk[\"content\"]\n",
    "                    metadata = chunk.get(\"metadata\", {})\n",
    "                    score = float(1.0 / (1.0 + distances[0][i]))\n",
    "                    doc = Document(page_content=content, metadata=metadata)\n",
    "                    doc.metadata[\"score\"] = score\n",
    "                    documents.append(doc)\n",
    "        except Exception as e:\n",
    "            print(f\"❌ Retrieval error: {e}\")\n",
    "    else:\n",
    "        print(\"❌ No index/model/chunks available.\")\n",
    "\n",
    "    return {\"documents\": documents, \"question\": question}"
   ]
  },
  {
   "cell_type": "markdown",
   "metadata": {},
   "source": [
    "#### Grade documents"
   ]
  },
  {
   "cell_type": "code",
   "execution_count": 123,
   "metadata": {},
   "outputs": [],
   "source": [
    "def grade_documents(state):\n",
    "    print(\"---CHECK DOCUMENT RELEVANCE TO QUESTION---\")\n",
    "    question = state[\"question\"]\n",
    "    documents = state.get(\"documents\", [])\n",
    "\n",
    "    filtered_docs = []\n",
    "\n",
    "    if documents:\n",
    "        for d in documents:\n",
    "            # ✅ Nếu tài liệu là từ SQL → luôn cho qua\n",
    "            if d.metadata.get(\"source\") == \"sql\":\n",
    "                print(\"✅ Bỏ qua grading (nguồn: SQL) → giữ lại\")\n",
    "                filtered_docs.append(d)\n",
    "                continue\n",
    "\n",
    "            # Còn lại thì dùng LLM grading\n",
    "            score = doc_grader.invoke(\n",
    "                {\"question\": question, \"document\": d.page_content}\n",
    "            )\n",
    "            grade = score.strip().lower()\n",
    "\n",
    "            if grade == \"yes\":\n",
    "                print(\"✅ GRADE: DOCUMENT RELEVANT\")\n",
    "                filtered_docs.append(d)\n",
    "            else:\n",
    "                print(\"❌ GRADE: DOCUMENT NOT RELEVANT\")\n",
    "    else:\n",
    "        print(\"⚠️ Không có tài liệu nào để chấm điểm.\")\n",
    "\n",
    "    return {\n",
    "        **state,\n",
    "        \"documents\": filtered_docs\n",
    "    }\n"
   ]
  },
  {
   "cell_type": "markdown",
   "metadata": {},
   "source": [
    "#### Use SQL"
   ]
  },
  {
   "cell_type": "code",
   "execution_count": 124,
   "metadata": {},
   "outputs": [],
   "source": [
    "from difflib import get_close_matches\n",
    "\n",
    "def map_company_name_to_ticker(question: str, mapping: dict) -> str | None:\n",
    "    question_lower = question.lower()\n",
    "    \n",
    "    # Tìm tên công ty khớp gần nhất\n",
    "    matched_names = get_close_matches(question_lower, mapping.keys(), n=1, cutoff=0.4)\n",
    "\n",
    "    if matched_names:\n",
    "        matched = matched_names[0]\n",
    "        print(f\"✅ Gần đúng: '{matched}' → {mapping[matched]}\")\n",
    "        return mapping[matched]\n",
    "\n",
    "    # Nếu không khớp fuzzy, fallback về in-string match\n",
    "    for name, ticker in mapping.items():\n",
    "        if name in question_lower:\n",
    "            print(f\"✅ Ánh xạ trực tiếp: '{name}' → {ticker}\")\n",
    "            return ticker\n",
    "\n",
    "    print(\"⚠️ Không ánh xạ được công ty nào.\")\n",
    "    return None\n",
    "def get_name_to_ticker_mapping(conn):\n",
    "    cursor = conn.cursor()\n",
    "    cursor.execute('SELECT name, symbol FROM djia_companies')\n",
    "    result = cursor.fetchall()\n",
    "    cursor.close()\n",
    "\n",
    "    # Chuẩn hóa name về lowercase và bỏ từ dư (Inc., Corp., Company,...)\n",
    "    clean_mapping = {}\n",
    "    for name, symbol in result:\n",
    "        name_clean = name.lower().replace(\"inc.\", \"\").replace(\"corporation\", \"\").replace(\"company\", \"\").replace(\"(the)\", \"\").strip()\n",
    "        clean_mapping[name_clean] = symbol\n",
    "\n",
    "    return clean_mapping\n",
    "\n",
    "def extract_ticker_from_question(question: str, conn) -> str | None:\n",
    "    mapping = get_name_to_ticker_mapping(conn)\n",
    "    return map_company_name_to_ticker(question, mapping)\n"
   ]
  },
  {
   "cell_type": "code",
   "execution_count": 125,
   "metadata": {},
   "outputs": [
    {
     "name": "stdout",
     "output_type": "stream",
     "text": [
      "Kết nối thành công đến PostgreSQL.\n",
      "✅ Ánh xạ trực tiếp: 'walmart' → WMT\n",
      "➡️ Mã cổ phiếu ánh xạ được: WMT\n"
     ]
    }
   ],
   "source": [
    "question = \" What was the closing price of Walmart on March 10, 2025?\"\n",
    "\n",
    "conn = connect_to_database()\n",
    "if conn:\n",
    "    ticker = extract_ticker_from_question(question, conn)\n",
    "    print(f\"➡️ Mã cổ phiếu ánh xạ được: {ticker}\")\n",
    "    conn.close()"
   ]
  },
  {
   "cell_type": "code",
   "execution_count": 126,
   "metadata": {},
   "outputs": [],
   "source": [
    "import pandas as pd\n",
    "from langchain.schema import Document\n",
    "from finance_metrics import load_formulas, identify_metric, get_required_fields, compute_metric\n",
    "from plot_metric import plot_chart\n",
    "import re\n",
    "\n",
    "\n",
    "def detect_chart_type(question: str):\n",
    "    q = question.lower()\n",
    "\n",
    "    if \"scatter\" in q or \"scatter plot\" in q:\n",
    "        return \"scatter\"\n",
    "    if \"bar chart\" in q or \"barplot\" in q or \"bar plot\" in q:\n",
    "        return \"bar\"\n",
    "    if \"pie chart\" in q or \"pie\" in q:\n",
    "        return \"pie\"\n",
    "    if \"boxplot\" in q or \"box plot\" in q:\n",
    "        return \"box\"\n",
    "    if \"histogram\" in q or \"hist\" in q:\n",
    "        return \"hist\"\n",
    "    if \"heatmap\" in q or \"correlation matrix\" in q:\n",
    "        return \"heatmap\"\n",
    "    if \"time series\" in q or \"plot the closing price\" in q or \"line chart\" in q or \"time-series\" in q:\n",
    "        return \"line\"\n",
    "\n",
    "    return None\n",
    "\n",
    "\n",
    "def query_sql(state):\n",
    "    print(\"---EXECUTE RAW SQL QUERY OR METRIC COMPUTATION---\")\n",
    "    question = state[\"question\"]\n",
    "\n",
    "    # Bước 1: Kết nối DB\n",
    "    conn = connect_to_database()\n",
    "    if conn is None:\n",
    "        raise ValueError(\"❌ Không thể kết nối cơ sở dữ liệu.\")\n",
    "\n",
    "    # Bước 2: Trích xuất schema + sample để đưa vào prompt LLM\n",
    "    schema_info = get_schema_and_samples(conn)\n",
    "\n",
    "    # Bước 3: Dùng LLM sinh SQL truy vấn\n",
    "    sql_query = generate_sql_query(question, schema_info)\n",
    "    if not sql_query:\n",
    "        conn.close()\n",
    "        raise ValueError(\"❌ Không thể sinh truy vấn SQL từ câu hỏi.\")\n",
    "\n",
    "    print(f\"🧠 Generated SQL Query:\\n{sql_query}\")\n",
    "\n",
    "    # Bước 4: Thực thi SQL\n",
    "    df = execute_sql_query(conn, sql_query)\n",
    "    conn.close()\n",
    "\n",
    "    # Bước 5: Nếu không có kết quả → fallback sang web\n",
    "    if df is None or df.empty:\n",
    "        print(\"⚠️ SQL trả về rỗng. Cần dùng web search.\")\n",
    "        return {\n",
    "            \"documents\": state[\"documents\"],\n",
    "            \"question\": question,\n",
    "            \"sql_query\": sql_query,\n",
    "            \"web_search_needed\": \"Yes\"\n",
    "        }\n",
    "\n",
    "    # Bước 6: Nếu câu hỏi yêu cầu biểu đồ\n",
    "    chart_type = detect_chart_type(question)\n",
    "    if chart_type:\n",
    "        print(f\"📊 Detected chart type: {chart_type}\")\n",
    "\n",
    "        if df is not None and not df.empty:\n",
    "            image_base64 = plot_chart(df, chart_type, question)\n",
    "\n",
    "            if image_base64:\n",
    "                result_doc = Document(\n",
    "                    page_content=f\"📊 The requested chart has been generated below.\",\n",
    "                    metadata={\"image_base64\": image_base64, \"source\": \"sql\"}\n",
    "                )\n",
    "            else:\n",
    "                result_doc = Document(\n",
    "                    page_content=f\"⚠️ Failed to generate chart.\",\n",
    "                    metadata={\"source\": \"sql\"}\n",
    "                )\n",
    "        else:\n",
    "            result_doc = Document(\n",
    "                page_content=\"⚠️ No data available for charting.\",\n",
    "                metadata={\"source\": \"sql\"}\n",
    "            )\n",
    "\n",
    "    else:\n",
    "        # Nếu không phải câu hỏi yêu cầu biểu đồ → trả kết quả dạng bảng\n",
    "        result_doc = Document(\n",
    "            page_content=f\"📊 SQL Query Result:\\n\\n{df.to_markdown(index=False)}\",\n",
    "            metadata={\"source\": \"sql\"}\n",
    "        )\n",
    "\n",
    "    # Trả kết quả về state\n",
    "    return {\n",
    "        \"documents\": state[\"documents\"] + [result_doc],\n",
    "        \"question\": question,\n",
    "        \"sql_query\": sql_query,\n",
    "        \"web_search_needed\": \"No\"\n",
    "    }\n",
    "\n"
   ]
  },
  {
   "cell_type": "markdown",
   "metadata": {},
   "source": [
    "### Assess combined documents"
   ]
  },
  {
   "cell_type": "code",
   "execution_count": 127,
   "metadata": {},
   "outputs": [],
   "source": [
    "def assess_combined_documents(state):\n",
    "    print(\"---REASSESS COMBINED DOCUMENTS---\")\n",
    "\n",
    "    question = state.get(\"question\", \"\")\n",
    "    all_docs = state.get(\"documents\", [])\n",
    "\n",
    "    reassessed_docs = []\n",
    "\n",
    "    for doc in all_docs:\n",
    "        score = doc_grader.invoke({\"question\": question, \"document\": doc.page_content}).strip().lower()\n",
    "        if score == \"yes\":\n",
    "            print(\"✅ Reassessed: Relevant\")\n",
    "            reassessed_docs.append(doc)\n",
    "        else:\n",
    "            print(\"❌ Reassessed: Not relevant\")\n",
    "\n",
    "    print(f\"🔍 Number of relevant documents after reassessment: {len(reassessed_docs)}\")\n",
    "\n",
    "    return {\n",
    "        **state,\n",
    "        \"documents\": reassessed_docs\n",
    "    }\n"
   ]
  },
  {
   "cell_type": "markdown",
   "metadata": {},
   "source": [
    "#### Decide after reassessment"
   ]
  },
  {
   "cell_type": "code",
   "execution_count": 128,
   "metadata": {},
   "outputs": [],
   "source": [
    "def decide_after_reassessment(state):\n",
    "    docs = state.get(\"documents\", [])\n",
    "    num_docs = len(docs)\n",
    "    print(f\"🔍 Number of relevant documents after reassessment: {num_docs}\")\n",
    "\n",
    "    if num_docs >= 1:\n",
    "        print(\"✅ Enough relevant documents found → proceed to generate_answer\")\n",
    "        return \"generate_answer\"\n",
    "    else:\n",
    "        print(\"⚠️ Not enough relevant documents → fallback to rewrite_query\")\n",
    "        return \"rewrite_query\"\n"
   ]
  },
  {
   "cell_type": "markdown",
   "metadata": {},
   "source": [
    "#### Rewrite query"
   ]
  },
  {
   "cell_type": "code",
   "execution_count": 129,
   "metadata": {},
   "outputs": [],
   "source": [
    "def rewrite_query(state):\n",
    "    print(\"---REWRITE QUERY---\")\n",
    "    question = state[\"question\"]\n",
    "    documents = state[\"documents\"]\n",
    "    # Re-write question\n",
    "    better_question = question_rewriter.invoke({\"question\": question})\n",
    "    return {\"documents\": documents, \"question\": better_question}"
   ]
  },
  {
   "cell_type": "markdown",
   "metadata": {},
   "source": [
    "#### Decide web search or generate answer"
   ]
  },
  {
   "cell_type": "code",
   "execution_count": 130,
   "metadata": {},
   "outputs": [],
   "source": [
    "def decide_after_sql(state):\n",
    "    if state.get(\"web_search_needed\", \"No\") == \"Yes\":\n",
    "        print(\"---DECISION: Missing SQL data → web search---\")\n",
    "        return \"rewrite_query\"\n",
    "    \n",
    "    print(\"---DECISION: Sufficient SQL data → generate answer---\")\n",
    "    return \"generate_answer\"\n"
   ]
  },
  {
   "cell_type": "markdown",
   "metadata": {},
   "source": [
    "#### Web search"
   ]
  },
  {
   "cell_type": "code",
   "execution_count": 131,
   "metadata": {},
   "outputs": [],
   "source": [
    "from langchain_core.documents import Document  # dùng đúng version core\n",
    "\n",
    "def web_search(state):\n",
    "    \"\"\"\n",
    "    Perform web search based on the rewritten question and return a unified Document.\n",
    "    \"\"\"\n",
    "    print(\"---WEB SEARCH---\")\n",
    "    question = state[\"question\"]\n",
    "    documents = state.get(\"documents\", [])\n",
    "\n",
    "    try:\n",
    "        docs = tv_search.invoke(question)\n",
    "\n",
    "        if not docs:\n",
    "            print(\"⚠️ No results returned from web search.\")\n",
    "            return {\"documents\": documents, \"question\": question}\n",
    "\n",
    "        print(\"📥 Web search results received.\")\n",
    "        print(\"DOCS TYPE:\", type(docs))\n",
    "        print(\"FIRST ELEMENT TYPE:\", type(docs[0]) if docs else \"EMPTY\")\n",
    "\n",
    "        # Format content\n",
    "        if isinstance(docs[0], str):\n",
    "            web_content = \"\\n\\n\".join(docs)\n",
    "        elif isinstance(docs[0], dict) and \"content\" in docs[0]:\n",
    "            web_content = \"\\n\\n\".join([d[\"content\"] for d in docs])\n",
    "        elif isinstance(docs[0], Document):\n",
    "            web_content = \"\\n\\n\".join([d.page_content for d in docs])\n",
    "        else:\n",
    "            raise TypeError(f\"Unsupported document format: {type(docs[0])}\")\n",
    "\n",
    "        # Append web search result as 1 Document\n",
    "        web_results = Document(\n",
    "            page_content=web_content,\n",
    "            metadata={\"source\": \"web_search\"}\n",
    "        )\n",
    "\n",
    "        documents.append(web_results)\n",
    "        print(\"✅ Web search content appended to documents.\")\n",
    "        return {\"documents\": documents, \"question\": question}\n",
    "\n",
    "    except Exception as e:\n",
    "        print(f\"❌ Error during web search: {str(e)}\")\n",
    "        return {\"documents\": documents, \"question\": question}\n"
   ]
  },
  {
   "cell_type": "markdown",
   "metadata": {},
   "source": [
    "#### Generate Answer"
   ]
  },
  {
   "cell_type": "code",
   "execution_count": 132,
   "metadata": {},
   "outputs": [],
   "source": [
    "def generate_answer(state):\n",
    "    print(\"---GENERATE ANSWER---\")\n",
    "\n",
    "    question = state.get(\"question\", \"\")\n",
    "    documents = state.get(\"documents\", [])\n",
    "\n",
    "    if not question:\n",
    "        print(\"⚠️ No question provided.\")\n",
    "        return {**state, \"generation\": \"No question was given.\"}\n",
    "\n",
    "    if not documents:\n",
    "        print(\"⚠️ No documents available for context.\")\n",
    "        return {**state, \"generation\": \"I don't have enough context to answer the question.\"}\n",
    "\n",
    "    try:\n",
    "        # ✅ Nếu có tài liệu chứa ảnh (image_base64) → hiển thị ngay, không gọi LLM\n",
    "        for doc in documents:\n",
    "            if isinstance(doc, Document) and doc.metadata.get(\"image_base64\"):\n",
    "                print(\"✅ Found image in document → skipping LLM\")\n",
    "                return {\n",
    "                    **state,\n",
    "                    \"generation\": \"📊 The requested chart has been generated below.\",\n",
    "                    \"image_base64\": doc.metadata[\"image_base64\"]\n",
    "                }\n",
    "\n",
    "        # ❗ Nếu không có ảnh → fallback sang LLM\n",
    "        generation = qa_rag_chain.invoke({\n",
    "            \"context\": documents,\n",
    "            \"question\": question\n",
    "        })\n",
    "\n",
    "        print(\"✅ Answer generated from LLM.\")\n",
    "        return {\n",
    "            **state,\n",
    "            \"generation\": generation\n",
    "        }\n",
    "\n",
    "    except Exception as e:\n",
    "        print(f\"❌ Error during answer generation: {str(e)}\")\n",
    "        return {\n",
    "            **state,\n",
    "            \"generation\": f\"Error generating answer: {str(e)}\"\n",
    "        }\n"
   ]
  },
  {
   "cell_type": "markdown",
   "metadata": {},
   "source": [
    "# Build the Agent Graph with LangGraph"
   ]
  },
  {
   "cell_type": "code",
   "execution_count": 133,
   "metadata": {},
   "outputs": [],
   "source": [
    "from langgraph.graph import StateGraph, END\n",
    "\n",
    "# === Build Agentic RAG: vector → SQL → (chart or reassess) → answer/web ===\n",
    "agentic_rag = StateGraph(GraphState)\n",
    "\n",
    "# Add nodes\n",
    "agentic_rag.add_node(\"retrieve\", retrieve)\n",
    "agentic_rag.add_node(\"grade_documents\", grade_documents)\n",
    "agentic_rag.add_node(\"query_sql\", query_sql)\n",
    "agentic_rag.add_node(\"assess_combined_documents\", assess_combined_documents)\n",
    "agentic_rag.add_node(\"rewrite_query\", rewrite_query)\n",
    "agentic_rag.add_node(\"web_search\", web_search)\n",
    "agentic_rag.add_node(\"generate_answer\", generate_answer)\n",
    "\n",
    "# Entry point\n",
    "agentic_rag.set_entry_point(\"retrieve\")\n",
    "\n",
    "# Flow: retrieve → grade_documents\n",
    "agentic_rag.add_edge(\"retrieve\", \"grade_documents\")\n",
    "\n",
    "# Nếu có docs → generate_answer, nếu không → query_sql\n",
    "agentic_rag.add_conditional_edges(\n",
    "    \"grade_documents\",\n",
    "    lambda state: \"generate_answer\" if len(state.get(\"documents\", [])) >= 1 else \"query_sql\",\n",
    "    {\n",
    "        \"generate_answer\": \"generate_answer\",\n",
    "        \"query_sql\": \"query_sql\"\n",
    "    }\n",
    ")\n",
    "\n",
    "# ✅ THAY ĐỔI Ở ĐÂY: phân nhánh sau query_sql dựa trên biểu đồ/web search\n",
    "def decide_after_query_sql(state):\n",
    "    question = state.get(\"question\", \"\")\n",
    "    if detect_chart_type(question):\n",
    "        print(\"---DECISION: This is a charting question → generate_answer\")\n",
    "        return \"generate_answer\"\n",
    "    elif state.get(\"web_search_needed\", \"No\") == \"Yes\":\n",
    "        print(\"---DECISION: SQL failed → fallback to rewrite_query\")\n",
    "        return \"rewrite_query\"\n",
    "    else:\n",
    "        print(\"---DECISION: Proceed to reassess documents\")\n",
    "        return \"assess_combined_documents\"\n",
    "\n",
    "agentic_rag.add_conditional_edges(\n",
    "    \"query_sql\",\n",
    "    decide_after_query_sql,\n",
    "    {\n",
    "        \"generate_answer\": \"generate_answer\",\n",
    "        \"rewrite_query\": \"rewrite_query\",\n",
    "        \"assess_combined_documents\": \"assess_combined_documents\"\n",
    "    }\n",
    ")\n",
    "\n",
    "# Flow tiếp theo từ reassess\n",
    "agentic_rag.add_conditional_edges(\n",
    "    \"assess_combined_documents\",\n",
    "    decide_after_reassessment,  # return \"generate_answer\" or \"rewrite_query\"\n",
    "    {\n",
    "        \"generate_answer\": \"generate_answer\",\n",
    "        \"rewrite_query\": \"rewrite_query\"\n",
    "    }\n",
    ")\n",
    "\n",
    "# Web search → generate answer\n",
    "agentic_rag.add_edge(\"rewrite_query\", \"web_search\")\n",
    "agentic_rag.add_edge(\"web_search\", \"generate_answer\")\n",
    "\n",
    "# End\n",
    "agentic_rag.add_edge(\"generate_answer\", END)\n",
    "\n",
    "# Compile\n",
    "agentic_rag = agentic_rag.compile()\n"
   ]
  },
  {
   "cell_type": "code",
   "execution_count": 134,
   "metadata": {},
   "outputs": [
    {
     "name": "stdout",
     "output_type": "stream",
     "text": [
      "<class 'langgraph.graph.state.CompiledStateGraph'>\n"
     ]
    }
   ],
   "source": [
    "print(type(agentic_rag))"
   ]
  },
  {
   "cell_type": "code",
   "execution_count": 135,
   "metadata": {},
   "outputs": [],
   "source": [
    "# from IPython.display import Image, display, Markdown\n",
    "# display(Image(agentic_rag.get_graph().draw_mermaid_png()))"
   ]
  },
  {
   "cell_type": "markdown",
   "metadata": {},
   "source": [
    "# Test Agentic RAG System"
   ]
  },
  {
   "cell_type": "code",
   "execution_count": 136,
   "metadata": {},
   "outputs": [],
   "source": [
    "from IPython.display import Markdown, display\n",
    "from IPython.display import Image as IPImage"
   ]
  },
  {
   "cell_type": "code",
   "execution_count": 137,
   "metadata": {},
   "outputs": [],
   "source": [
    "from PIL import Image\n",
    "import base64\n",
    "\n",
    "def show_result(response):\n",
    "    display(Markdown(response.get(\"generation\", \"\")))\n",
    "    for doc in response.get(\"documents\", []):\n",
    "        if isinstance(doc, Document) and \"image_base64\" in doc.metadata:\n",
    "            img_data = base64.b64decode(doc.metadata[\"image_base64\"])\n",
    "            display(IPImage(data=img_data))\n"
   ]
  },
  {
   "cell_type": "code",
   "execution_count": 138,
   "metadata": {},
   "outputs": [
    {
     "name": "stdout",
     "output_type": "stream",
     "text": [
      "---RETRIEVAL FROM VECTOR DB---\n",
      "📁 Loading RAG vector store from: sec_embeddings\n",
      "✅ Loaded 89 chunks into memory.\n",
      "✅ FAISS index and SentenceTransformer initialized.\n",
      "📌 Retrieved top 3 docs from FAISS\n",
      "---CHECK DOCUMENT RELEVANCE TO QUESTION---\n",
      "❌ GRADE: DOCUMENT NOT RELEVANT\n",
      "❌ GRADE: DOCUMENT NOT RELEVANT\n",
      "❌ GRADE: DOCUMENT NOT RELEVANT\n",
      "---EXECUTE RAW SQL QUERY OR METRIC COMPUTATION---\n",
      "Kết nối thành công đến PostgreSQL.\n",
      "🧠 Generated SQL Query:\n",
      "SELECT MAX(\"High\") \n",
      "FROM \"djia_prices\" \n",
      "WHERE \"Ticker\" = 'AAPL' AND \"Date\"::date = '2025-02-28'\n",
      "---DECISION: Proceed to reassess documents\n",
      "---REASSESS COMBINED DOCUMENTS---\n"
     ]
    },
    {
     "name": "stderr",
     "output_type": "stream",
     "text": [
      "C:\\Users\\trung\\AppData\\Local\\Temp\\ipykernel_21668\\2204117271.py:114: UserWarning: pandas only supports SQLAlchemy connectable (engine/connection) or database string URI or sqlite3 DBAPI2 connection. Other DBAPI2 objects are not tested. Please consider using SQLAlchemy.\n",
      "  df = pd.read_sql(query, conn)\n"
     ]
    },
    {
     "name": "stdout",
     "output_type": "stream",
     "text": [
      "✅ Reassessed: Relevant\n",
      "🔍 Number of relevant documents after reassessment: 1\n",
      "🔍 Number of relevant documents after reassessment: 1\n",
      "✅ Enough relevant documents found → proceed to generate_answer\n",
      "---GENERATE ANSWER---\n",
      "✅ Answer generated from LLM.\n"
     ]
    },
    {
     "data": {
      "text/markdown": [
       "The highest price Apple reached on February 28, 2025, was $242.09."
      ],
      "text/plain": [
       "<IPython.core.display.Markdown object>"
      ]
     },
     "metadata": {},
     "output_type": "display_data"
    },
    {
     "data": {
      "text/markdown": [
       "The highest price Apple reached on February 28, 2025, was $242.09."
      ],
      "text/plain": [
       "<IPython.core.display.Markdown object>"
      ]
     },
     "metadata": {},
     "output_type": "display_data"
    }
   ],
   "source": [
    "query = \"What was the highest price Apple reached on February 28, 2025?\"\n",
    "response = agentic_rag.invoke({\"question\": query})\n",
    "display(Markdown(response['generation']))\n",
    "show_result(response)"
   ]
  },
  {
   "cell_type": "code",
   "execution_count": 139,
   "metadata": {},
   "outputs": [
    {
     "name": "stdout",
     "output_type": "stream",
     "text": [
      "---RETRIEVAL FROM VECTOR DB---\n",
      "✅ Vector store & retriever already initialized. Reusing...\n",
      "📌 Retrieved top 3 docs from FAISS\n",
      "---CHECK DOCUMENT RELEVANCE TO QUESTION---\n",
      "❌ GRADE: DOCUMENT NOT RELEVANT\n",
      "❌ GRADE: DOCUMENT NOT RELEVANT\n",
      "❌ GRADE: DOCUMENT NOT RELEVANT\n",
      "---EXECUTE RAW SQL QUERY OR METRIC COMPUTATION---\n",
      "Kết nối thành công đến PostgreSQL.\n",
      "🧠 Generated SQL Query:\n",
      "SELECT \"Date\", \"Close\"\n",
      "FROM \"djia_prices\"\n",
      "WHERE \"Ticker\" = 'MSFT' \n",
      "AND \"Date\"::date BETWEEN '2024-06-01' AND '2024-09-30'\n",
      "ORDER BY \"Date\";\n",
      "📊 Detected chart type: line\n"
     ]
    },
    {
     "name": "stderr",
     "output_type": "stream",
     "text": [
      "C:\\Users\\trung\\AppData\\Local\\Temp\\ipykernel_21668\\2204117271.py:114: UserWarning: pandas only supports SQLAlchemy connectable (engine/connection) or database string URI or sqlite3 DBAPI2 connection. Other DBAPI2 objects are not tested. Please consider using SQLAlchemy.\n",
      "  df = pd.read_sql(query, conn)\n"
     ]
    },
    {
     "name": "stdout",
     "output_type": "stream",
     "text": [
      "---DECISION: This is a charting question → generate_answer\n",
      "---GENERATE ANSWER---\n",
      "✅ Found image in document → skipping LLM\n"
     ]
    },
    {
     "data": {
      "text/markdown": [
       "📊 The requested chart has been generated below."
      ],
      "text/plain": [
       "<IPython.core.display.Markdown object>"
      ]
     },
     "metadata": {},
     "output_type": "display_data"
    },
    {
     "data": {
      "text/markdown": [
       "📊 The requested chart has been generated below."
      ],
      "text/plain": [
       "<IPython.core.display.Markdown object>"
      ]
     },
     "metadata": {},
     "output_type": "display_data"
    },
    {
     "data": {
      "image/png": "[encoded data removed]",
      "text/plain": [
       "<IPython.core.display.Image object>"
      ]
     },
     "metadata": {},
     "output_type": "display_data"
    }
   ],
   "source": [
    "query = \"Plot the time series of Microsoft (MSFT) stock closing price from June 1, 2024 to September 30, 2024.\"\n",
    "response = agentic_rag.invoke({\"question\": query})\n",
    "display(Markdown(response['generation']))\n",
    "show_result(response)"
   ]
  },
  {
   "cell_type": "markdown",
   "metadata": {},
   "source": []
  },
  {
   "cell_type": "code",
   "execution_count": 140,
   "metadata": {},
   "outputs": [
    {
     "name": "stdout",
     "output_type": "stream",
     "text": [
      "---RETRIEVAL FROM VECTOR DB---\n",
      "✅ Vector store & retriever already initialized. Reusing...\n",
      "📌 Retrieved top 3 docs from FAISS\n",
      "---CHECK DOCUMENT RELEVANCE TO QUESTION---\n",
      "❌ GRADE: DOCUMENT NOT RELEVANT\n",
      "❌ GRADE: DOCUMENT NOT RELEVANT\n",
      "❌ GRADE: DOCUMENT NOT RELEVANT\n",
      "---EXECUTE RAW SQL QUERY OR METRIC COMPUTATION---\n",
      "Kết nối thành công đến PostgreSQL.\n",
      "🧠 Generated SQL Query:\n",
      "SELECT \"Open\" FROM djia_prices WHERE \"Ticker\" = 'BA' AND \"Date\"::date = '2023-08-01'\n",
      "---DECISION: Proceed to reassess documents\n",
      "---REASSESS COMBINED DOCUMENTS---\n"
     ]
    },
    {
     "name": "stderr",
     "output_type": "stream",
     "text": [
      "C:\\Users\\trung\\AppData\\Local\\Temp\\ipykernel_21668\\2204117271.py:114: UserWarning: pandas only supports SQLAlchemy connectable (engine/connection) or database string URI or sqlite3 DBAPI2 connection. Other DBAPI2 objects are not tested. Please consider using SQLAlchemy.\n",
      "  df = pd.read_sql(query, conn)\n"
     ]
    },
    {
     "name": "stdout",
     "output_type": "stream",
     "text": [
      "✅ Reassessed: Relevant\n",
      "🔍 Number of relevant documents after reassessment: 1\n",
      "🔍 Number of relevant documents after reassessment: 1\n",
      "✅ Enough relevant documents found → proceed to generate_answer\n",
      "---GENERATE ANSWER---\n",
      "✅ Answer generated from LLM.\n"
     ]
    },
    {
     "data": {
      "text/markdown": [
       "The opening price of Boeing on August 1, 2023, was $237.55."
      ],
      "text/plain": [
       "<IPython.core.display.Markdown object>"
      ]
     },
     "metadata": {},
     "output_type": "display_data"
    },
    {
     "data": {
      "text/markdown": [
       "The opening price of Boeing on August 1, 2023, was $237.55."
      ],
      "text/plain": [
       "<IPython.core.display.Markdown object>"
      ]
     },
     "metadata": {},
     "output_type": "display_data"
    }
   ],
   "source": [
    "query = \"What was the opening price of Boeing on August 1, 2023?\"\n",
    "response = agentic_rag.invoke({\"question\": query})\n",
    "display(Markdown(response['generation']))\n",
    "show_result(response)"
   ]
  },
  {
   "cell_type": "code",
   "execution_count": 141,
   "metadata": {},
   "outputs": [
    {
     "name": "stdout",
     "output_type": "stream",
     "text": [
      "---RETRIEVAL FROM VECTOR DB---\n",
      "✅ Vector store & retriever already initialized. Reusing...\n",
      "📌 Retrieved top 3 docs from FAISS\n",
      "---CHECK DOCUMENT RELEVANCE TO QUESTION---\n",
      "❌ GRADE: DOCUMENT NOT RELEVANT\n",
      "❌ GRADE: DOCUMENT NOT RELEVANT\n",
      "❌ GRADE: DOCUMENT NOT RELEVANT\n",
      "---EXECUTE RAW SQL QUERY OR METRIC COMPUTATION---\n",
      "Kết nối thành công đến PostgreSQL.\n",
      "🧠 Generated SQL Query:\n",
      "SELECT \n",
      "    TO_CHAR(\"Date\", 'YYYY-MM') AS Month, \n",
      "    AVG(\"Close\") AS Average_Price\n",
      "FROM \n",
      "    djia_prices\n",
      "WHERE \n",
      "    \"Ticker\" = 'CAT' AND \n",
      "    \"Date\"::date >= '2024-01-01' AND \n",
      "    \"Date\"::date <= '2024-12-31'\n",
      "GROUP BY \n",
      "    Month\n",
      "ORDER BY \n",
      "    Month;\n",
      "📊 Detected chart type: bar\n"
     ]
    },
    {
     "name": "stderr",
     "output_type": "stream",
     "text": [
      "C:\\Users\\trung\\AppData\\Local\\Temp\\ipykernel_21668\\2204117271.py:114: UserWarning: pandas only supports SQLAlchemy connectable (engine/connection) or database string URI or sqlite3 DBAPI2 connection. Other DBAPI2 objects are not tested. Please consider using SQLAlchemy.\n",
      "  df = pd.read_sql(query, conn)\n"
     ]
    },
    {
     "name": "stdout",
     "output_type": "stream",
     "text": [
      "---DECISION: This is a charting question → generate_answer\n",
      "---GENERATE ANSWER---\n",
      "✅ Found image in document → skipping LLM\n"
     ]
    },
    {
     "data": {
      "text/markdown": [
       "📊 The requested chart has been generated below."
      ],
      "text/plain": [
       "<IPython.core.display.Markdown object>"
      ]
     },
     "metadata": {},
     "output_type": "display_data"
    },
    {
     "data": {
      "text/markdown": [
       "📊 The requested chart has been generated below."
      ],
      "text/plain": [
       "<IPython.core.display.Markdown object>"
      ]
     },
     "metadata": {},
     "output_type": "display_data"
    },
    {
     "data": {
      "image/png": "[encoded data removed]",
      "text/plain": [
       "<IPython.core.display.Image object>"
      ]
     },
     "metadata": {},
     "output_type": "display_data"
    }
   ],
   "source": [
    "query = \"Create a bar chart of Caterpillar (CAT) average monthly closing price in 2024\"\n",
    "response = agentic_rag.invoke({\"question\": query})\n",
    "display(Markdown(response['generation']))\n",
    "show_result(response)"
   ]
  },
  {
   "cell_type": "code",
   "execution_count": 142,
   "metadata": {},
   "outputs": [
    {
     "name": "stdout",
     "output_type": "stream",
     "text": [
      "---RETRIEVAL FROM VECTOR DB---\n",
      "✅ Vector store & retriever already initialized. Reusing...\n",
      "📌 Retrieved top 3 docs from FAISS\n",
      "---CHECK DOCUMENT RELEVANCE TO QUESTION---\n",
      "❌ GRADE: DOCUMENT NOT RELEVANT\n",
      "❌ GRADE: DOCUMENT NOT RELEVANT\n",
      "❌ GRADE: DOCUMENT NOT RELEVANT\n",
      "---EXECUTE RAW SQL QUERY OR METRIC COMPUTATION---\n",
      "Kết nối thành công đến PostgreSQL.\n",
      "🧠 Generated SQL Query:\n",
      "SELECT \"sector\", SUM(\"market_cap\") AS total_market_cap \n",
      "FROM \"djia_companies\" \n",
      "GROUP BY \"sector\";\n",
      "📊 Detected chart type: pie\n",
      "---DECISION: This is a charting question → generate_answer\n",
      "---GENERATE ANSWER---\n",
      "✅ Found image in document → skipping LLM\n"
     ]
    },
    {
     "name": "stderr",
     "output_type": "stream",
     "text": [
      "C:\\Users\\trung\\AppData\\Local\\Temp\\ipykernel_21668\\2204117271.py:114: UserWarning: pandas only supports SQLAlchemy connectable (engine/connection) or database string URI or sqlite3 DBAPI2 connection. Other DBAPI2 objects are not tested. Please consider using SQLAlchemy.\n",
      "  df = pd.read_sql(query, conn)\n"
     ]
    },
    {
     "data": {
      "text/markdown": [
       "📊 The requested chart has been generated below."
      ],
      "text/plain": [
       "<IPython.core.display.Markdown object>"
      ]
     },
     "metadata": {},
     "output_type": "display_data"
    },
    {
     "data": {
      "text/markdown": [
       "📊 The requested chart has been generated below."
      ],
      "text/plain": [
       "<IPython.core.display.Markdown object>"
      ]
     },
     "metadata": {},
     "output_type": "display_data"
    },
    {
     "data": {
      "image/png": "[encoded data removed]",
      "text/plain": [
       "<IPython.core.display.Image object>"
      ]
     },
     "metadata": {},
     "output_type": "display_data"
    }
   ],
   "source": [
    "query = \"Create a pie chart of market capitalization proportions by sector as of April 26, 2025\"\n",
    "response = agentic_rag.invoke({\"question\": query})\n",
    "display(Markdown(response['generation']))\n",
    "show_result(response)"
   ]
  },
  {
   "cell_type": "code",
   "execution_count": null,
   "metadata": {},
   "outputs": [],
   "source": []
  }
 ],
 "metadata": {
  "kernelspec": {
   "display_name": "Python 3",
   "language": "python",
   "name": "python3"
  },
  "language_info": {
   "codemirror_mode": {
    "name": "ipython",
    "version": 3
   },
   "file_extension": ".py",
   "mimetype": "text/x-python",
   "name": "python",
   "nbconvert_exporter": "python",
   "pygments_lexer": "ipython3",
   "version": "3.10.0"
  }
 },
 "nbformat": 4,
 "nbformat_minor": 2
}
